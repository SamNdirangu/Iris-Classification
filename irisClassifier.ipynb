{
  "nbformat": 4,
  "nbformat_minor": 0,
  "metadata": {
    "colab": {
      "name": "irisClassifier.ipynb",
      "version": "0.3.2",
      "provenance": [],
      "include_colab_link": true
    },
    "kernelspec": {
      "name": "python2",
      "display_name": "Python 2"
    }
  },
  "cells": [
    {
      "cell_type": "markdown",
      "metadata": {
        "id": "view-in-github",
        "colab_type": "text"
      },
      "source": [
        "<a href=\"https://colab.research.google.com/github/SamNdirangu/Iris-Classification/blob/master/irisClassifier.ipynb\" target=\"_parent\"><img src=\"https://colab.research.google.com/assets/colab-badge.svg\" alt=\"Open In Colab\"/></a>"
      ]
    },
    {
      "cell_type": "markdown",
      "metadata": {
        "id": "7R1uJXuVFt4I",
        "colab_type": "text"
      },
      "source": [
        "# Iris Dataset Classification\n",
        "Classification of the Iris dataset\n",
        "\n",
        "## A. Decision Tree Classifier\n",
        "### 1. Do our general imports"
      ]
    },
    {
      "cell_type": "code",
      "metadata": {
        "id": "gpy5ULF7F9pj",
        "colab_type": "code",
        "colab": {}
      },
      "source": [
        "#import pandas and numpy\n",
        "import pandas as pd\n",
        "import numpy as np"
      ],
      "execution_count": 0,
      "outputs": []
    },
    {
      "cell_type": "markdown",
      "metadata": {
        "id": "sALNjEduGRJ8",
        "colab_type": "text"
      },
      "source": [
        "### 2 Import our Iris Dataset \n",
        "Importing from CSV file"
      ]
    },
    {
      "cell_type": "code",
      "metadata": {
        "id": "mOQQUukeGcb2",
        "colab_type": "code",
        "colab": {
          "base_uri": "https://localhost:8080/",
          "height": 116
        },
        "outputId": "8495616e-4d16-4af8-eb29-793a15c9656f"
      },
      "source": [
        "#using read_csv read our data store to a dataframe\n",
        "irisData = pd.read_csv('Iris.csv')\n",
        "#View the first 5 entries and the data headers\n",
        "print(irisData.head(5))"
      ],
      "execution_count": 82,
      "outputs": [
        {
          "output_type": "stream",
          "text": [
            "   Id  SepalLengthCm  SepalWidthCm  PetalLengthCm  PetalWidthCm      Species\n",
            "0   1            5.1           3.5            1.4           0.2  Iris-setosa\n",
            "1   2            4.9           3.0            1.4           0.2  Iris-setosa\n",
            "2   3            4.7           3.2            1.3           0.2  Iris-setosa\n",
            "3   4            4.6           3.1            1.5           0.2  Iris-setosa\n",
            "4   5            5.0           3.6            1.4           0.2  Iris-setosa\n"
          ],
          "name": "stdout"
        }
      ]
    },
    {
      "cell_type": "markdown",
      "metadata": {
        "id": "7tFGK4PrIjso",
        "colab_type": "text"
      },
      "source": [
        "### 3. Split into X and Y"
      ]
    },
    {
      "cell_type": "code",
      "metadata": {
        "id": "I-ehqEE7Isc_",
        "colab_type": "code",
        "colab": {}
      },
      "source": [
        "#Load X and Y.\n",
        "#Create X with features\n",
        "x = irisData.iloc[:,1:5]\n",
        "#Create Y for our species labels\n",
        "y = irisData.iloc[:,5]"
      ],
      "execution_count": 0,
      "outputs": []
    },
    {
      "cell_type": "markdown",
      "metadata": {
        "id": "sl08XY7BUZTR",
        "colab_type": "text"
      },
      "source": [
        "### 4. Standardize our Data"
      ]
    },
    {
      "cell_type": "code",
      "metadata": {
        "id": "4_QQ0xRSUeBv",
        "colab_type": "code",
        "colab": {}
      },
      "source": [
        "from sklearn.preprocessing import StandardScaler\n",
        "sc = StandardScaler()\n",
        "sc.fit(x)\n",
        "x_std = sc.transform(x)"
      ],
      "execution_count": 0,
      "outputs": []
    },
    {
      "cell_type": "markdown",
      "metadata": {
        "id": "f3-zWTlfUySu",
        "colab_type": "text"
      },
      "source": [
        "### 5. Split into Training and Test(30%) Sets"
      ]
    },
    {
      "cell_type": "code",
      "metadata": {
        "id": "XuPZdhcXU7BV",
        "colab_type": "code",
        "colab": {}
      },
      "source": [
        "#Using train_test_split split and split into training and test sets. Test sets of 30%\n",
        "from sklearn.model_selection import train_test_split\n",
        "x_train,x_test,y_train,y_test = train_test_split(x_std,y,test_size=0.3,\n",
        "                                                random_state=9)"
      ],
      "execution_count": 0,
      "outputs": []
    },
    {
      "cell_type": "markdown",
      "metadata": {
        "id": "7l3EOTNuMlx2",
        "colab_type": "text"
      },
      "source": [
        "### 4. Build Decision Tree classifer"
      ]
    },
    {
      "cell_type": "code",
      "metadata": {
        "id": "7dIKWLHBMwj6",
        "colab_type": "code",
        "colab": {}
      },
      "source": [
        "from sklearn import tree\n",
        "treeModel = tree.DecisionTreeClassifier( max_depth=20)\n",
        "treeModel = treeModel.fit(x_train,y_train)"
      ],
      "execution_count": 0,
      "outputs": []
    },
    {
      "cell_type": "markdown",
      "metadata": {
        "id": "7Q1wI_bNNiES",
        "colab_type": "text"
      },
      "source": [
        "### 5. Evaluate Models"
      ]
    },
    {
      "cell_type": "code",
      "metadata": {
        "id": "znkjvgBuNk35",
        "colab_type": "code",
        "colab": {
          "base_uri": "https://localhost:8080/",
          "height": 33
        },
        "outputId": "0704d095-8088-436b-f47c-09eb4606ca7a"
      },
      "source": [
        "from sklearn.metrics import accuracy_score\n",
        "y_pred = treeModel.predict(x_test)\n",
        "accuracy = accuracy_score(y_test, y_pred)\n",
        "\n",
        "print('Accuracy: ', accuracy*100)"
      ],
      "execution_count": 87,
      "outputs": [
        {
          "output_type": "stream",
          "text": [
            "('Accuracy: ', 97.77777777777777)\n"
          ],
          "name": "stdout"
        }
      ]
    }
  ]
}